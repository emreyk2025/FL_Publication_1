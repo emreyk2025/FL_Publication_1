{
 "cells": [
  {
   "cell_type": "markdown",
   "metadata": {},
   "source": [
    "### Data Preprocessing"
   ]
  },
  {
   "cell_type": "markdown",
   "metadata": {},
   "source": [
    "Chosen Data Sets:\n",
    "\n",
    "GoiEner Data Set\n",
    "\n",
    "Smart Grid Smart City Customer Trial Data Set\n",
    "\n",
    "METER UK Household Electricity and Activity Survey, 2016-2019\n",
    "\n",
    "Original SmartMeter dataset (year 2014)"
   ]
  },
  {
   "cell_type": "markdown",
   "metadata": {},
   "source": [
    "Install Dependencies"
   ]
  },
  {
   "cell_type": "code",
   "execution_count": 1,
   "metadata": {},
   "outputs": [],
   "source": [
    "from sklearn.preprocessing import LabelEncoder\n",
    "import pandas as pd\n",
    "import holidays"
   ]
  },
  {
   "cell_type": "code",
   "execution_count": 2,
   "metadata": {},
   "outputs": [],
   "source": [
    "# Read original dataset\n",
    "smartmeter_data = pd.read_csv('D:/FL Publication/Datasets for the Publication/Smart-meter Dataset/LCL-FullData/CC_LCL-FullData.csv')"
   ]
  },
  {
   "cell_type": "code",
   "execution_count": 3,
   "metadata": {},
   "outputs": [],
   "source": [
    "# Convert datetime column to pandas DateTime type\n",
    "smartmeter_data['DateTime'] = pd.to_datetime(smartmeter_data['DateTime'])"
   ]
  },
  {
   "cell_type": "code",
   "execution_count": 4,
   "metadata": {},
   "outputs": [],
   "source": [
    "# Extract datetime components\n",
    "smartmeter_data['year'] = smartmeter_data['DateTime'].dt.year.astype('int16')\n",
    "smartmeter_data['month'] = smartmeter_data['DateTime'].dt.month.astype('int8')\n",
    "smartmeter_data['day'] = smartmeter_data['DateTime'].dt.day.astype('int8')\n",
    "smartmeter_data['hour'] = smartmeter_data['DateTime'].dt.hour.astype('int8')\n",
    "smartmeter_data['minute'] = smartmeter_data['DateTime'].dt.minute.astype('int8')\n",
    "smartmeter_data['dayofyear'] = smartmeter_data['DateTime'].dt.dayofyear.astype('int16')\n",
    "smartmeter_data['dayofweek'] = smartmeter_data['DateTime'].dt.dayofweek.astype('int8')\n",
    "smartmeter_data['is_weekend'] = smartmeter_data['dayofweek'].isin([5, 6]).astype('bool')"
   ]
  },
  {
   "cell_type": "code",
   "execution_count": 5,
   "metadata": {},
   "outputs": [],
   "source": [
    "uk_holidays = holidays.GB()\n",
    "smartmeter_data['is_holiday'] = smartmeter_data['DateTime'].dt.date.map(lambda x: x in uk_holidays).astype('bool')"
   ]
  },
  {
   "cell_type": "code",
   "execution_count": null,
   "metadata": {},
   "outputs": [],
   "source": [
    "# Use data from 2012 and 2013\n",
    "# There is no irregularities or potential problems in 2012 data. I inspected.\n",
    "smartmeter_data = smartmeter_data[(smartmeter_data['year'] == 2012) | (smartmeter_data['year'] == 2013)]"
   ]
  },
  {
   "cell_type": "code",
   "execution_count": 7,
   "metadata": {},
   "outputs": [],
   "source": [
    "# Drop DateTime column as it is not needed anymore\n",
    "smartmeter_data.drop(columns=[\"DateTime\"], inplace=True)"
   ]
  },
  {
   "cell_type": "code",
   "execution_count": 8,
   "metadata": {},
   "outputs": [],
   "source": [
    "# Select only standard customers \n",
    "smartmeter_data = smartmeter_data[smartmeter_data[\"stdorToU\"] == \"Std\"]\n",
    "smartmeter_data.drop(columns=[\"stdorToU\"], inplace=True)"
   ]
  },
  {
   "cell_type": "code",
   "execution_count": null,
   "metadata": {},
   "outputs": [],
   "source": [
    "# Encode the ID of meters\n",
    "label_encoder_lclid = LabelEncoder()\n",
    "smartmeter_data['LCLid'] = label_encoder_lclid.fit_transform(smartmeter_data['LCLid'])\n",
    "smartmeter_data['LCLid'] = smartmeter_data['LCLid'].astype('int16')"
   ]
  },
  {
   "cell_type": "code",
   "execution_count": 10,
   "metadata": {},
   "outputs": [],
   "source": [
    "# Ensure that target does not contain NULLs and is numerric \n",
    "smartmeter_data['KWH/hh (per half hour) '] = pd.to_numeric(smartmeter_data['KWH/hh (per half hour) '], errors='coerce').fillna(0.0).astype('float64')"
   ]
  },
  {
   "cell_type": "code",
   "execution_count": 11,
   "metadata": {},
   "outputs": [
    {
     "name": "stdout",
     "output_type": "stream",
     "text": [
      "Index(['LCLid', 'KWH/hh (per half hour) ', 'year', 'month', 'day', 'hour',\n",
      "       'minute', 'dayofyear', 'dayofweek', 'is_weekend', 'is_holiday'],\n",
      "      dtype='object')\n"
     ]
    }
   ],
   "source": [
    "print(smartmeter_data.columns)"
   ]
  },
  {
   "cell_type": "code",
   "execution_count": 12,
   "metadata": {},
   "outputs": [],
   "source": [
    "# Calculate hourly consumption \n",
    "hourly_data = smartmeter_data.groupby(['LCLid', 'year', 'month', 'day', 'dayofyear','dayofweek', 'hour', 'is_weekend', 'is_holiday'])['KWH/hh (per half hour) '].sum().reset_index()\n",
    "hourly_data = hourly_data.rename(columns={'KWH/hh (per half hour) ': 'KWH/hh (per hour)'})"
   ]
  },
  {
   "cell_type": "code",
   "execution_count": null,
   "metadata": {},
   "outputs": [],
   "source": [
    "# Sort the data \n",
    "hourly_data.sort_values(by=['LCLid', 'year', 'month', 'day', 'hour'], inplace=True)\n",
    "\n",
    "# Save the DataFrame to a CSV file\n",
    "hourly_data.to_csv('D:/FL Publication/Datasets for the Publication/Smart-meter Dataset/Preprocessed_data.csv', index=False)"
   ]
  },
  {
   "cell_type": "code",
   "execution_count": 14,
   "metadata": {},
   "outputs": [
    {
     "name": "stdout",
     "output_type": "stream",
     "text": [
      "     LCLid  year  month  day  dayofyear  dayofweek  hour  is_weekend  \\\n",
      "0        0  2012     10   12        286          4     0       False   \n",
      "1        0  2012     10   12        286          4     1       False   \n",
      "2        0  2012     10   12        286          4     2       False   \n",
      "3        0  2012     10   12        286          4     3       False   \n",
      "4        0  2012     10   12        286          4     4       False   \n",
      "..     ...   ...    ...  ...        ...        ...   ...         ...   \n",
      "495      0  2012     11    1        306          3    15       False   \n",
      "496      0  2012     11    1        306          3    16       False   \n",
      "497      0  2012     11    1        306          3    17       False   \n",
      "498      0  2012     11    1        306          3    18       False   \n",
      "499      0  2012     11    1        306          3    19       False   \n",
      "\n",
      "     is_holiday  KWH/hh (per hour)  \n",
      "0         False              0.000  \n",
      "1         False              0.000  \n",
      "2         False              0.000  \n",
      "3         False              0.000  \n",
      "4         False              0.000  \n",
      "..          ...                ...  \n",
      "495       False              0.355  \n",
      "496       False              0.354  \n",
      "497       False              0.354  \n",
      "498       False              0.716  \n",
      "499       False              0.647  \n",
      "\n",
      "[500 rows x 10 columns]\n"
     ]
    }
   ],
   "source": [
    "print(hourly_data.head(500))"
   ]
  },
  {
   "cell_type": "markdown",
   "metadata": {},
   "source": [
    "Holidays bunu da ekle\n",
    "\n",
    "Check whether aggregation is done correctly"
   ]
  }
 ],
 "metadata": {
  "kernelspec": {
   "display_name": "federated_learning_env",
   "language": "python",
   "name": "python3"
  },
  "language_info": {
   "codemirror_mode": {
    "name": "ipython",
    "version": 3
   },
   "file_extension": ".py",
   "mimetype": "text/x-python",
   "name": "python",
   "nbconvert_exporter": "python",
   "pygments_lexer": "ipython3",
   "version": "3.11.9"
  }
 },
 "nbformat": 4,
 "nbformat_minor": 2
}
