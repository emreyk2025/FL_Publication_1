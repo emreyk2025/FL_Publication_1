{
 "cells": [
  {
   "cell_type": "markdown",
   "metadata": {},
   "source": [
    "### Data Preprocessing"
   ]
  },
  {
   "cell_type": "markdown",
   "metadata": {},
   "source": [
    "Chosen Data Sets:\n",
    "\n",
    "GoiEner Data Set\n",
    "\n",
    "Smart Grid Smart City Customer Trial Data Set\n",
    "\n",
    "METER UK Household Electricity and Activity Survey, 2016-2019\n",
    "\n",
    "Original SmartMeter dataset (year 2014)"
   ]
  },
  {
   "cell_type": "markdown",
   "metadata": {},
   "source": [
    "Install Dependencies"
   ]
  },
  {
   "cell_type": "code",
   "execution_count": 1,
   "metadata": {},
   "outputs": [],
   "source": [
    "from sklearn.preprocessing import LabelEncoder\n",
    "import pandas as pd\n",
    "import holidays"
   ]
  },
  {
   "cell_type": "markdown",
   "metadata": {},
   "source": [
    "The organisation of this data set is different from others. There is an Electricity ID (idElectricity) and Meta ID (Meta_idMeta). The Meta ID connects the electricity consumption data to household, activities, and indvidiual data. The datasets are recorded in 28 Hours periods in different times between February 2016 to January 2019 (Before Covid 19) for each house. The data is available in 1 Min. and 10 Min. intervals.\n",
    "\n",
    "Some Statistics on the Data:\n",
    "\n",
    "Households participated: 361\n",
    "\n",
    "Distinct Households: 293\n",
    "\n"
   ]
  },
  {
   "cell_type": "code",
   "execution_count": null,
   "metadata": {},
   "outputs": [],
   "source": [
    "# The data is recorded for every second, and aggregated into 1 Min and 10 Min intervals. We are going to use 1 Min version.\n",
    "# Also, electricity is measured as Watt, we will make it kWh so that it is consistent with other data sets we have.\n",
    "# For each MetaID we have data for 28 Hours, starts with 17:00 and ends at 21:00 next day (There are exceptions.) The data recordings for different\n",
    "# households are from different dates. \n",
    "# ID Electricity is like an index, I think that it is unnecessary at that point.\n",
    "# Delete rows where MetaID is not available \"NULL\"."
   ]
  },
  {
   "cell_type": "code",
   "execution_count": 2,
   "metadata": {},
   "outputs": [],
   "source": [
    "# Load the data\n",
    "METER_data = pd.read_csv('D:/FL Publication/Datasets for the Publication/METER UK Household Electricity and Activity Survey, 2016-2019/8634csv_1CB23E7148D5085ACDF690DCCDC0066A_V1/UKDA-8634-csv/csv/electricity_1min.csv')\n"
   ]
  },
  {
   "cell_type": "code",
   "execution_count": 3,
   "metadata": {},
   "outputs": [],
   "source": [
    "# Encode the ID of meters\n",
    "label_encoder_Meta_idMeta = LabelEncoder()\n",
    "METER_data['Meta_idMeta'] = label_encoder_Meta_idMeta.fit_transform(METER_data['Meta_idMeta'])\n",
    "METER_data['Meta_idMeta'] = METER_data['Meta_idMeta'].astype('int16')"
   ]
  },
  {
   "cell_type": "code",
   "execution_count": 4,
   "metadata": {},
   "outputs": [],
   "source": [
    "METER_data['dt'] = pd.to_datetime(METER_data['dt'])"
   ]
  },
  {
   "cell_type": "code",
   "execution_count": 5,
   "metadata": {},
   "outputs": [],
   "source": [
    "METER_data['year'] = METER_data['dt'].dt.year.astype('int16')\n",
    "METER_data['month'] = METER_data['dt'].dt.month.astype('int16')\n",
    "METER_data['day'] = METER_data['dt'].dt.day.astype('int16')\n",
    "METER_data['hour'] = METER_data['dt'].dt.hour.astype('int16')\n",
    "METER_data['minute'] = METER_data['dt'].dt.minute.astype('int16')\n",
    "METER_data['day_of_year'] = METER_data['dt'].dt.day_of_year.astype('int16')\n",
    "METER_data['day_of_week'] = METER_data['dt'].dt.day_of_week.astype('int16')\n",
    "METER_data['is_weekend'] = METER_data['dt'].dt.dayofweek >= 5\n",
    "METER_data['is_weekend'] = METER_data['is_weekend'].astype('bool')"
   ]
  },
  {
   "cell_type": "code",
   "execution_count": 6,
   "metadata": {},
   "outputs": [],
   "source": [
    "uk_holidays = holidays.GB()\n",
    "METER_data['is_holiday'] = METER_data['dt'].dt.date.map(lambda x: x in uk_holidays).astype('bool')"
   ]
  },
  {
   "cell_type": "code",
   "execution_count": 7,
   "metadata": {},
   "outputs": [
    {
     "name": "stdout",
     "output_type": "stream",
     "text": [
      "        idElectricity                  dt  Meta_idMeta    Watt  year  month  \\\n",
      "0              156358 2000-01-01 07:55:00          313     NaN  2000      1   \n",
      "1              156359 2000-01-01 07:56:00          313     NaN  2000      1   \n",
      "2              156360 2000-01-01 07:57:00          313     NaN  2000      1   \n",
      "3              156361 2000-01-01 07:58:00          313     NaN  2000      1   \n",
      "4              156362 2000-01-01 07:59:00          313     NaN  2000      1   \n",
      "...               ...                 ...          ...     ...   ...    ...   \n",
      "114435         278698 2016-10-22 03:50:00           77  567.80  2016     10   \n",
      "114436         278699 2016-10-22 03:51:00           77  567.00  2016     10   \n",
      "114437         278700 2016-10-22 03:52:00           77  566.65  2016     10   \n",
      "114438         278701 2016-10-22 03:53:00           77  565.75  2016     10   \n",
      "114439         278702 2016-10-22 03:54:00           77  563.70  2016     10   \n",
      "\n",
      "        day  hour  minute  day_of_year  day_of_week  is_weekend  is_holiday  \n",
      "0         1     7      55            1            5        True        True  \n",
      "1         1     7      56            1            5        True        True  \n",
      "2         1     7      57            1            5        True        True  \n",
      "3         1     7      58            1            5        True        True  \n",
      "4         1     7      59            1            5        True        True  \n",
      "...     ...   ...     ...          ...          ...         ...         ...  \n",
      "114435   22     3      50          296            5        True       False  \n",
      "114436   22     3      51          296            5        True       False  \n",
      "114437   22     3      52          296            5        True       False  \n",
      "114438   22     3      53          296            5        True       False  \n",
      "114439   22     3      54          296            5        True       False  \n",
      "\n",
      "[500 rows x 13 columns]\n",
      "        idElectricity                  dt  Meta_idMeta    Watt  year  month  \\\n",
      "0              156358 2000-01-01 07:55:00          313     NaN  2000      1   \n",
      "1              156359 2000-01-01 07:56:00          313     NaN  2000      1   \n",
      "2              156360 2000-01-01 07:57:00          313     NaN  2000      1   \n",
      "3              156361 2000-01-01 07:58:00          313     NaN  2000      1   \n",
      "4              156362 2000-01-01 07:59:00          313     NaN  2000      1   \n",
      "...               ...                 ...          ...     ...   ...    ...   \n",
      "275357         446778 2017-04-14 23:55:00          167  128.20  2017      4   \n",
      "275358         446779 2017-04-14 23:56:00          167  128.70  2017      4   \n",
      "275359         446780 2017-04-14 23:57:00          167  129.30  2017      4   \n",
      "275360         446781 2017-04-14 23:58:00          167  129.80  2017      4   \n",
      "275361         446782 2017-04-14 23:59:00          167   65.15  2017      4   \n",
      "\n",
      "        day  hour  minute  day_of_year  day_of_week  is_weekend  is_holiday  \n",
      "0         1     7      55            1            5        True        True  \n",
      "1         1     7      56            1            5        True        True  \n",
      "2         1     7      57            1            5        True        True  \n",
      "3         1     7      58            1            5        True        True  \n",
      "4         1     7      59            1            5        True        True  \n",
      "...     ...   ...     ...          ...          ...         ...         ...  \n",
      "275357   14    23      55          104            4       False        True  \n",
      "275358   14    23      56          104            4       False        True  \n",
      "275359   14    23      57          104            4       False        True  \n",
      "275360   14    23      58          104            4       False        True  \n",
      "275361   14    23      59          104            4       False        True  \n",
      "\n",
      "[431 rows x 13 columns]\n"
     ]
    }
   ],
   "source": [
    "# Making sure weekend and holiday columns are as expected\n",
    "print(METER_data[METER_data['is_weekend']].head(500))\n",
    "print(METER_data[METER_data['is_holiday']].head(500))\n",
    "# Yes, they work as expected. "
   ]
  },
  {
   "cell_type": "code",
   "execution_count": 8,
   "metadata": {},
   "outputs": [],
   "source": [
    "# Drop the old dt column, as we do not need it anymore.\n",
    "METER_data.drop(columns=[\"dt\"], inplace=True)"
   ]
  },
  {
   "cell_type": "code",
   "execution_count": 9,
   "metadata": {},
   "outputs": [],
   "source": [
    "# Drop the idElectricity column\n",
    "METER_data.drop(columns=[\"idElectricity\"], inplace=True)"
   ]
  },
  {
   "cell_type": "code",
   "execution_count": 10,
   "metadata": {},
   "outputs": [
    {
     "name": "stdout",
     "output_type": "stream",
     "text": [
      "Number of rows with missing Meta_idMeta: 0\n",
      "Number of rows with missing Meta_idMeta: 1068\n"
     ]
    }
   ],
   "source": [
    "# Delete rows with no MetaID\n",
    "\n",
    "#First see the number of rows where ID or Watt column is missing\n",
    "\n",
    "null_count_ID = METER_data['Meta_idMeta'].isnull().sum()\n",
    "null_count_watt = METER_data['Watt'].isnull().sum()\n",
    "print(f\"Number of rows with missing Meta_idMeta: {null_count_ID}\")\n",
    "print(f\"Number of rows with missing Meta_idMeta: {null_count_watt}\")"
   ]
  },
  {
   "cell_type": "code",
   "execution_count": null,
   "metadata": {},
   "outputs": [],
   "source": [
    "# The number of raws where Meta ID and Watt value is NULL is 0.18 percent of the overall dataset and visual inspection with graphs seems to show that\n",
    "# the missing values are at random. For this reason we will simply remove missing observations from the data set.\n",
    "\n",
    "METER_data = METER_data.dropna(subset=['Meta_idMeta','Watt'])"
   ]
  },
  {
   "cell_type": "code",
   "execution_count": 12,
   "metadata": {},
   "outputs": [],
   "source": [
    "# Convert Watt to kW\n",
    "METER_data['kW'] = METER_data['Watt'] / 1000\n",
    "\n",
    "# Drop Watt column\n",
    "\n",
    "METER_data.drop(columns=[\"Watt\"], inplace=True)"
   ]
  },
  {
   "cell_type": "code",
   "execution_count": null,
   "metadata": {},
   "outputs": [],
   "source": [
    "# Save it as preprocessed csv file"
   ]
  },
  {
   "cell_type": "code",
   "execution_count": 13,
   "metadata": {},
   "outputs": [],
   "source": [
    "METER_data.to_csv('D:/FL Publication/Code_new/FL_Publication_1/Current_Simulations/Data_Preprocessing/Preprocessed_data/METER_electricity_preprocessed_1min.csv',index=False)"
   ]
  },
  {
   "cell_type": "markdown",
   "metadata": {},
   "source": [
    "Consider using data on households to improve forecasting (You don't have to use household data only for fairness aspects.)\n",
    "\n",
    "Remove absolute time, it is unnecessary"
   ]
  },
  {
   "cell_type": "code",
   "execution_count": 14,
   "metadata": {},
   "outputs": [
    {
     "name": "stdout",
     "output_type": "stream",
     "text": [
      "        Meta_idMeta  year  month  day  hour  minute  day_of_year  day_of_week  \\\n",
      "518133          311  2019      1   16    20      57           16            2   \n",
      "518134          311  2019      1   16    20      58           16            2   \n",
      "518135          311  2019      1   16    20      59           16            2   \n",
      "518136          311  2019      1   16    21       0           16            2   \n",
      "518137          311  2019      1   16    21       1           16            2   \n",
      "\n",
      "        is_weekend  is_holiday        kW  \n",
      "518133       False       False  0.205033  \n",
      "518134       False       False  0.212087  \n",
      "518135       False       False  0.298270  \n",
      "518136       False       False  0.443230  \n",
      "518137       False       False  0.362507  \n"
     ]
    }
   ],
   "source": [
    "print(METER_data.tail())"
   ]
  }
 ],
 "metadata": {
  "kernelspec": {
   "display_name": "federated_learning_env",
   "language": "python",
   "name": "python3"
  },
  "language_info": {
   "codemirror_mode": {
    "name": "ipython",
    "version": 3
   },
   "file_extension": ".py",
   "mimetype": "text/x-python",
   "name": "python",
   "nbconvert_exporter": "python",
   "pygments_lexer": "ipython3",
   "version": "3.11.9"
  }
 },
 "nbformat": 4,
 "nbformat_minor": 2
}
